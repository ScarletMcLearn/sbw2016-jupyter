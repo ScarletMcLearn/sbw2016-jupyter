{
 "cells": [
  {
   "cell_type": "markdown",
   "metadata": {
    "deletable": true,
    "editable": true
   },
   "source": [
    "# The Notebook file format\n",
    "\n",
    "Notebooks are stored on disk as JSON files. JSON is a really simple way of representing data: it looks exactly like Python lists and dictionaries, so you already know how to read it.\n",
    "\n",
    "```javascript\n",
    "{\n",
    "  \"key\": \"value\",\n",
    "  \"ultimate answer\": 42,\n",
    "  \"lists\": [\"like\", \"this\"]\n",
    "}\n",
    "```\n",
    "\n",
    "At the top level of the notebook file there are four fields:\n",
    "\n",
    "* `nbformat` & `nbformat_minor`: The version of the format this notebook is stored in. The current version is 4.0.\n",
    "* `metadata`: Information about the notebook, like the language it's written in.\n",
    "* `cells`: List of cells with the notebook content  "
   ]
  },
  {
   "cell_type": "markdown",
   "metadata": {
    "deletable": true,
    "editable": true
   },
   "source": [
    "## Challenges\n",
    "\n",
    "Open the notebooks in this directory in your text editor and look at the structure.\n",
    "\n",
    "1. What distinguishes a markdown cell from a code cell?\n",
    "2. How many different kinds of output can you see?\n",
    "\n",
    "The [notebook format documentation](http://ipython.org/ipython-doc/3/notebook/nbformat.html) has the answers. It describes the structure of notebook files in detail."
   ]
  },
  {
   "cell_type": "markdown",
   "metadata": {
    "deletable": true,
    "editable": true
   },
   "source": [
    "## Manipulating notebooks in Python code\n",
    "\n",
    "The `nbformat` package has functions to load and save notebooks, convert between different versions of the format, and validate notebooks against the specification."
   ]
  },
  {
   "cell_type": "code",
   "execution_count": null,
   "metadata": {
    "collapsed": false,
    "deletable": true,
    "editable": true
   },
   "outputs": [],
   "source": [
    "import nbformat\n",
    "nb = nbformat.read('nbconvert.ipynb', as_version=4)"
   ]
  },
  {
   "cell_type": "code",
   "execution_count": null,
   "metadata": {
    "collapsed": false,
    "deletable": true,
    "editable": true
   },
   "outputs": [],
   "source": [
    "print(nb.cells[2].source)"
   ]
  },
  {
   "cell_type": "code",
   "execution_count": null,
   "metadata": {
    "collapsed": true,
    "deletable": true,
    "editable": true
   },
   "outputs": [],
   "source": [
    "# Run this, then reload the page to see the change\n",
    "nb.cells.insert(0, nbformat.v4.new_markdown_cell('**Look at me!**'))\n",
    "nbformat.write(nb, 'nbconvert.ipynb')"
   ]
  },
  {
   "cell_type": "markdown",
   "metadata": {
    "deletable": true,
    "editable": true
   },
   "source": [
    "# nbconvert\n",
    "\n",
    "`nbconvert` is a tool for converting notebooks to other formats."
   ]
  },
  {
   "cell_type": "code",
   "execution_count": null,
   "metadata": {
    "collapsed": false,
    "deletable": true,
    "editable": true
   },
   "outputs": [],
   "source": [
    "!jupyter nbconvert --to html nbconvert.ipynb"
   ]
  },
  {
   "cell_type": "markdown",
   "metadata": {
    "deletable": true,
    "editable": true
   },
   "source": [
    "[view the result](./nbconvert.html)"
   ]
  },
  {
   "cell_type": "code",
   "execution_count": null,
   "metadata": {
    "collapsed": false,
    "deletable": true,
    "editable": true
   },
   "outputs": [],
   "source": [
    "!jupyter nbconvert --to markdown nbconvert.ipynb\n",
    "\n",
    "!cat nbconvert.md"
   ]
  },
  {
   "cell_type": "markdown",
   "metadata": {
    "deletable": true,
    "editable": true
   },
   "source": [
    "[nbviewer](https://nbviewer.jupyter.org) is a service that runs nbconvert on notebooks so you can share your work with anyone who has a webbrowser."
   ]
  }
 ],
 "metadata": {
  "kernelspec": {
   "display_name": "Python 3",
   "language": "python",
   "name": "python3"
  },
  "language_info": {
   "codemirror_mode": {
    "name": "ipython",
    "version": 3
   },
   "file_extension": ".py",
   "mimetype": "text/x-python",
   "name": "python",
   "nbconvert_exporter": "python",
   "pygments_lexer": "ipython3",
   "version": "3.5.2"
  }
 },
 "nbformat": 4,
 "nbformat_minor": 1
}
