{
 "cells": [
  {
   "cell_type": "markdown",
   "metadata": {
    "deletable": true,
    "editable": true
   },
   "source": [
    "<div class=\"text-center\">\n",
    "\n",
    "<h1>IPython and Jupyter  for reproducible research</h1>\n",
    "\n",
    "<h2>SBW 2016</h2>\n",
    "\n",
    "<h4>\n",
    "Min RK (<a href=\"https://github.com/minrk\">@minrk</a>)\n",
    "</h4>\n",
    "</div>"
   ]
  },
  {
   "cell_type": "markdown",
   "metadata": {
    "deletable": true,
    "editable": true
   },
   "source": [
    "\n",
    "\n",
    "# Outline\n",
    "\n",
    "## Part 0: Installation and setup\n",
    "\n",
    "- Get Anaconda: https://www.continuum.io/downloads\n",
    "- Make sure everything is up to date:\n",
    "\n",
    "       conda upgrade jupyter\n",
    "\n",
    "- Get [this tutorial](https://github.com/minrk/sbw2016-jupyter):\n",
    "\n",
    "       git clone https://github.com/minrk/sbw2016-jupyter\n",
    "\n",
    "- Start  the notebook server:\n",
    "\n",
    "       cd sbw2016-jupyter\n",
    "       jupyter notebook\n",
    "\n",
    "Or visit https://sbw.jupyter.org to run a hosted version (requires GitHub login).\n",
    "\n",
    "- [Notebook basics](Notebook Basics.ipynb)\n",
    "- [Markdown in the notebook](Working With Markdown Cells.ipynb)\n",
    "\n",
    "\n",
    "## Part 1: IPython for interactive computing\n",
    "\n",
    "\n",
    "- [Running code in IPython](Running Code.ipynb)\n",
    "- [IPython - beyond plain python](Beyond Plain Python.ipynb)\n",
    "- [Plotting in the Notebook](Plotting in the Notebook.ipynb)\n",
    "- [Rich Display System](Rich Output.ipynb)\n",
    "- [Interactive Widgets](Widget Basics.ipynb)\n",
    "- [@interact](Using Interact.ipynb)\n",
    "\n",
    "### 1.a: Not just Python!\n",
    "\n",
    "- [R in Jupyter](R in Jupyter.ipynb)\n",
    "- [R in IPython](R in IPython.ipynb)\n",
    "\n",
    "\n",
    "## Part 2: Jupyter for sharing and reproducibility\n",
    "\n",
    "- [nbconvert for sharing notebooks](nbconvert.ipynb)\n",
    "- [environments for reproducing context](Environments for Reproducibility.ipynb)"
   ]
  }
 ],
 "metadata": {
  "kernelspec": {
   "display_name": "Python 3",
   "language": "python",
   "name": "python3"
  },
  "language_info": {
   "codemirror_mode": {
    "name": "ipython",
    "version": 3
   },
   "file_extension": ".py",
   "mimetype": "text/x-python",
   "name": "python",
   "nbconvert_exporter": "python",
   "pygments_lexer": "ipython3",
   "version": "3.5.2"
  }
 },
 "nbformat": 4,
 "nbformat_minor": 1
}
