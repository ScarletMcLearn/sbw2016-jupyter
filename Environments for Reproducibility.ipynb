{
 "cells": [
  {
   "cell_type": "markdown",
   "metadata": {
    "deletable": true,
    "editable": true
   },
   "source": [
    "#  Environments for  Reproducibility\n",
    "\n",
    "There are two key aspects of reproducibility:\n",
    "\n",
    "1. describing what you did (Notebooks)\n",
    "2. describing the environment in which you did them.\n",
    "\n",
    "I'll talk about three environment technologies you can use for helping yourself and others reproduce your work."
   ]
  },
  {
   "cell_type": "markdown",
   "metadata": {
    "deletable": true,
    "editable": true
   },
   "source": [
    "## virtualenv, requirements.txt\n",
    "\n",
    "- virtualenv is a lightweight *Python* environment\n",
    "- requirements.txt is a file that specifies *Python* dependencies\n",
    "- `pip freeze` lets you record your current environment in a requirements.txt file"
   ]
  },
  {
   "cell_type": "code",
   "execution_count": null,
   "metadata": {
    "collapsed": false,
    "deletable": true,
    "editable": true
   },
   "outputs": [],
   "source": [
    "!cat reproducibility/requirements.txt"
   ]
  },
  {
   "cell_type": "code",
   "execution_count": null,
   "metadata": {
    "collapsed": false,
    "deletable": true,
    "editable": true
   },
   "outputs": [],
   "source": [
    "!pip freeze"
   ]
  },
  {
   "cell_type": "markdown",
   "metadata": {
    "deletable": true,
    "editable": true
   },
   "source": [
    "You can install a collection of requriements with:\n",
    "\n",
    "    pip install -r requirements.txt\n",
    "    \n",
    "But what if you  have non-Python dependencies?"
   ]
  },
  {
   "cell_type": "markdown",
   "metadata": {
    "deletable": true,
    "editable": true
   },
   "source": [
    "## Conda: More than just Python\n",
    "\n",
    "- conda is a *general* package manager that can create environments.\n",
    "- conda environments may include C, R, any other packages, including those installed with pip\n",
    "- `conda list --export` records the conda environment like `pip freeze`\n"
   ]
  },
  {
   "cell_type": "code",
   "execution_count": null,
   "metadata": {
    "collapsed": false,
    "deletable": true,
    "editable": true
   },
   "outputs": [],
   "source": [
    "!cat reproducibility/environment.yml"
   ]
  },
  {
   "cell_type": "code",
   "execution_count": null,
   "metadata": {
    "collapsed": false,
    "deletable": true,
    "editable": true
   },
   "outputs": [],
   "source": [
    "!conda list --export"
   ]
  },
  {
   "cell_type": "markdown",
   "metadata": {
    "deletable": true,
    "editable": true
   },
   "source": [
    "But what if that's still not enough?"
   ]
  },
  {
   "cell_type": "markdown",
   "metadata": {
    "deletable": true,
    "editable": true
   },
   "source": [
    "## Docker: A full virtual* system\n",
    "\n",
    "[Docker](https://www.docker.com) creates a full virtual Linux OS in a container\\*.\n",
    "- A Dockerfile describes the full steps used to create an image\n",
    "- A container is a running *instance*, starting from an image\n",
    "- Dockerfiles are highly portable, but somewhat isolating\n",
    "\n",
    "\\* *A container is somewhere between a virtual machine and an environment*"
   ]
  },
  {
   "cell_type": "code",
   "execution_count": null,
   "metadata": {
    "collapsed": false,
    "deletable": true,
    "editable": true
   },
   "outputs": [],
   "source": [
    "!cat reproducibility/Dockerfile"
   ]
  },
  {
   "cell_type": "markdown",
   "metadata": {
    "deletable": true,
    "editable": true
   },
   "source": [
    "## Applications of reproducibility: [Binder](http://mybinder.org)\n",
    "\n"
   ]
  }
 ],
 "metadata": {
  "kernelspec": {
   "display_name": "Python 3",
   "language": "python",
   "name": "python3"
  },
  "language_info": {
   "codemirror_mode": {
    "name": "ipython",
    "version": 3
   },
   "file_extension": ".py",
   "mimetype": "text/x-python",
   "name": "python",
   "nbconvert_exporter": "python",
   "pygments_lexer": "ipython3",
   "version": "3.5.2"
  }
 },
 "nbformat": 4,
 "nbformat_minor": 1
}
