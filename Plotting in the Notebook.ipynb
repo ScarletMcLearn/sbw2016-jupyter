{
 "cells": [
  {
   "cell_type": "markdown",
   "metadata": {
    "deletable": true,
    "editable": true
   },
   "source": [
    "# Plotting with Matplotlib"
   ]
  },
  {
   "cell_type": "markdown",
   "metadata": {
    "deletable": true,
    "editable": true
   },
   "source": [
    "IPython works with the [Matplotlib](http://matplotlib.org/) plotting library, integrating it with IPython's display system and event loop handling."
   ]
  },
  {
   "cell_type": "markdown",
   "metadata": {
    "deletable": true,
    "editable": true
   },
   "source": [
    "## matplotlib mode"
   ]
  },
  {
   "cell_type": "markdown",
   "metadata": {
    "deletable": true,
    "editable": true
   },
   "source": [
    "To make plots using Matplotlib, you must first enable IPython's matplotlib mode.\n",
    "\n",
    "To do this, run the `%matplotlib` magic command to enable plotting in the current Notebook.\n",
    "\n",
    "This magic takes an optional argument that specifies which Matplotlib backend should be used.  Most of the time, in the Notebook, you will want to use either the `inline` or `notebook` backend, which both embed plots inside the Notebook:"
   ]
  },
  {
   "cell_type": "code",
   "execution_count": null,
   "metadata": {
    "collapsed": false,
    "deletable": true,
    "editable": true
   },
   "outputs": [],
   "source": [
    "%matplotlib inline"
   ]
  },
  {
   "cell_type": "markdown",
   "metadata": {
    "deletable": true,
    "editable": true
   },
   "source": [
    "You can also use Matplotlib GUI backends in the Notebook, such as the Qt backend (`%matplotlib qt`). This will use Matplotlib's interactive Qt UI in a floating window to the side of your browser. Of course, this only works if your browser is running on the same system as the Notebook Server.  You can always call the `display` function to paste figures into the Notebook document."
   ]
  },
  {
   "cell_type": "markdown",
   "metadata": {
    "deletable": true,
    "editable": true
   },
   "source": [
    "## Making a simple plot"
   ]
  },
  {
   "cell_type": "markdown",
   "metadata": {
    "deletable": true,
    "editable": true
   },
   "source": [
    "With matplotlib enabled, plotting should just work."
   ]
  },
  {
   "cell_type": "code",
   "execution_count": null,
   "metadata": {
    "collapsed": false,
    "deletable": true,
    "editable": true
   },
   "outputs": [],
   "source": [
    "import matplotlib.pyplot as plt\n",
    "import numpy as np"
   ]
  },
  {
   "cell_type": "code",
   "execution_count": null,
   "metadata": {
    "collapsed": false,
    "deletable": true,
    "editable": true
   },
   "outputs": [],
   "source": [
    "x = np.linspace(0, 3*np.pi, 500)\n",
    "plt.plot(x, np.sin(x**2))\n",
    "plt.title('A simple chirp');"
   ]
  },
  {
   "cell_type": "markdown",
   "metadata": {
    "deletable": true,
    "editable": true
   },
   "source": [
    "One thing to be aware of is that by default, the `Figure` object is cleared at the end of each cell, so you will need to issue all plotting commands for a single figure in a single cell."
   ]
  },
  {
   "cell_type": "markdown",
   "metadata": {
    "deletable": true,
    "editable": true
   },
   "source": [
    "## Loading Matplotlib demos with %load"
   ]
  },
  {
   "cell_type": "markdown",
   "metadata": {
    "deletable": true,
    "editable": true
   },
   "source": [
    "IPython's `%load` magic can be used to load any Matplotlib demo by its URL:"
   ]
  },
  {
   "cell_type": "code",
   "execution_count": null,
   "metadata": {
    "collapsed": false,
    "deletable": true,
    "editable": true
   },
   "outputs": [],
   "source": [
    "# %load http://matplotlib.org/mpl_examples/showcase/integral_demo.py\n",
    "\"\"\"\n",
    "Plot demonstrating the integral as the area under a curve.\n",
    "\n",
    "Although this is a simple example, it demonstrates some important tweaks:\n",
    "\n",
    "    * A simple line plot with custom color and line width.\n",
    "    * A shaded region created using a Polygon patch.\n",
    "    * A text label with mathtext rendering.\n",
    "    * figtext calls to label the x- and y-axes.\n",
    "    * Use of axis spines to hide the top and right spines.\n",
    "    * Custom tick placement and labels.\n",
    "\"\"\"\n",
    "import numpy as np\n",
    "import matplotlib.pyplot as plt\n",
    "from matplotlib.patches import Polygon\n",
    "\n",
    "\n",
    "def func(x):\n",
    "    return (x - 3) * (x - 5) * (x - 7) + 85\n",
    "\n",
    "\n",
    "a, b = 2, 9  # integral limits\n",
    "x = np.linspace(0, 10)\n",
    "y = func(x)\n",
    "\n",
    "fig, ax = plt.subplots()\n",
    "plt.plot(x, y, 'r', linewidth=2)\n",
    "plt.ylim(ymin=0)\n",
    "\n",
    "# Make the shaded region\n",
    "ix = np.linspace(a, b)\n",
    "iy = func(ix)\n",
    "verts = [(a, 0)] + list(zip(ix, iy)) + [(b, 0)]\n",
    "poly = Polygon(verts, facecolor='0.9', edgecolor='0.5')\n",
    "ax.add_patch(poly)\n",
    "\n",
    "plt.text(0.5 * (a + b), 30, r\"$\\int_a^b f(x)\\mathrm{d}x$\",\n",
    "         horizontalalignment='center', fontsize=20)\n",
    "\n",
    "plt.figtext(0.9, 0.05, '$x$')\n",
    "plt.figtext(0.1, 0.9, '$y$')\n",
    "\n",
    "ax.spines['right'].set_visible(False)\n",
    "ax.spines['top'].set_visible(False)\n",
    "ax.xaxis.set_ticks_position('bottom')\n",
    "\n",
    "ax.set_xticks((a, b))\n",
    "ax.set_xticklabels(('$a$', '$b$'))\n",
    "ax.set_yticks([])\n",
    "\n",
    "plt.show()\n"
   ]
  },
  {
   "cell_type": "markdown",
   "metadata": {
    "deletable": true,
    "editable": true
   },
   "source": [
    "[Altair](https://altair-viz.github.io) is a new declarative visualization library, wrapping the vega-lite javascript library."
   ]
  },
  {
   "cell_type": "code",
   "execution_count": null,
   "metadata": {
    "collapsed": false,
    "deletable": true,
    "editable": true
   },
   "outputs": [],
   "source": [
    "from altair import *\n",
    "\n",
    "Chart('http://vega.github.io/vega-lite/data/barley.json').mark_bar().encode(\n",
    "    color='site:N',\n",
    "    x='sum(yield):Q',\n",
    "    y='variety:N',\n",
    ")"
   ]
  },
  {
   "cell_type": "markdown",
   "metadata": {},
   "source": [
    "There are more plotting libraries that work in the notebook, including:\n",
    "\n",
    "- [plotly](https://plot.ly/python/#basic-charts)\n",
    "- [bqplot](https://bqplot.readthedocs.io/en/stable/usage.html#examples)\n",
    "- [bokeh](http://bokeh.pydata.org/en/latest/docs/gallery.html)\n",
    "- [seaborn](https://seaborn.github.io/examples/index.html)\n",
    "- [ggplot](http://ggplot.yhathq.com)\n",
    "- more!"
   ]
  }
 ],
 "metadata": {
  "kernelspec": {
   "display_name": "Python 3",
   "language": "python",
   "name": "python3"
  },
  "language_info": {
   "codemirror_mode": {
    "name": "ipython",
    "version": 3
   },
   "file_extension": ".py",
   "mimetype": "text/x-python",
   "name": "python",
   "nbconvert_exporter": "python",
   "pygments_lexer": "ipython3",
   "version": "3.5.2"
  }
 },
 "nbformat": 4,
 "nbformat_minor": 1
}
